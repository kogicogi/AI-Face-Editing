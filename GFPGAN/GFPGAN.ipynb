{
 "cells": [
  {
   "cell_type": "code",
   "execution_count": null,
   "id": "9cb62928",
   "metadata": {
    "scrolled": true
   },
   "outputs": [],
   "source": [
    "!git clone https://github.com/TencentARC/GFPGAN.git"
   ]
  },
  {
   "cell_type": "code",
   "execution_count": null,
   "id": "40d2b1d9",
   "metadata": {},
   "outputs": [],
   "source": [
    "!pip install basicsr"
   ]
  },
  {
   "cell_type": "code",
   "execution_count": null,
   "id": "b6b7964c",
   "metadata": {},
   "outputs": [],
   "source": [
    "!pip install facexlib"
   ]
  },
  {
   "cell_type": "code",
   "execution_count": null,
   "id": "0029794d",
   "metadata": {},
   "outputs": [],
   "source": [
    "!pip install -r requirements.txt"
   ]
  },
  {
   "cell_type": "code",
   "execution_count": null,
   "id": "332d21b0",
   "metadata": {},
   "outputs": [],
   "source": [
    "!python setup.py develop"
   ]
  },
  {
   "cell_type": "code",
   "execution_count": null,
   "id": "3c6e43fc",
   "metadata": {},
   "outputs": [],
   "source": [
    "!pip install realesrgan"
   ]
  },
  {
   "cell_type": "code",
   "execution_count": 1,
   "id": "c27fdaeb",
   "metadata": {
    "scrolled": true
   },
   "outputs": [
    {
     "name": "stdout",
     "output_type": "stream",
     "text": [
      "Processing wecxz.jpg ...\n",
      "Results are in the [results] folder.\n"
     ]
    },
    {
     "name": "stderr",
     "output_type": "stream",
     "text": [
      "C:\\Users\\sksm2\\capstone_design_2\\GFPGAN\\GFPGAN\\inference_gfpgan.py:63: UserWarning: The unoptimized RealESRGAN is slow on CPU. We do not use it. If you really want to use it, please modify the corresponding codes.\n",
      "  warnings.warn('The unoptimized RealESRGAN is slow on CPU. We do not use it. '\n",
      "C:\\Users\\sksm2\\anaconda3\\lib\\site-packages\\torchvision\\models\\_utils.py:208: UserWarning: The parameter 'pretrained' is deprecated since 0.13 and may be removed in the future, please use 'weights' instead.\n",
      "  warnings.warn(\n",
      "C:\\Users\\sksm2\\anaconda3\\lib\\site-packages\\torchvision\\models\\_utils.py:223: UserWarning: Arguments other than a weight enum or `None` for 'weights' are deprecated since 0.13 and may be removed in the future. The current behavior is equivalent to passing `weights=None`.\n",
      "  warnings.warn(msg)\n"
     ]
    }
   ],
   "source": [
    "!python inference_gfpgan.py -i inputs/whole_imgs -o results -v 1.3 -s 2"
   ]
  },
  {
   "cell_type": "code",
   "execution_count": null,
   "id": "9c601654",
   "metadata": {},
   "outputs": [],
   "source": []
  },
  {
   "cell_type": "code",
   "execution_count": null,
   "id": "be845325",
   "metadata": {},
   "outputs": [],
   "source": []
  },
  {
   "cell_type": "code",
   "execution_count": null,
   "id": "8f18ea36",
   "metadata": {},
   "outputs": [],
   "source": []
  },
  {
   "cell_type": "code",
   "execution_count": null,
   "id": "0aa34e40",
   "metadata": {},
   "outputs": [],
   "source": [
    "!pip install torch"
   ]
  },
  {
   "cell_type": "code",
   "execution_count": null,
   "id": "1f7f57ed",
   "metadata": {},
   "outputs": [],
   "source": [
    "!conda clean -a"
   ]
  },
  {
   "cell_type": "code",
   "execution_count": null,
   "id": "4bbbf85d",
   "metadata": {},
   "outputs": [],
   "source": []
  },
  {
   "cell_type": "code",
   "execution_count": null,
   "id": "5d5760f3",
   "metadata": {},
   "outputs": [],
   "source": []
  },
  {
   "cell_type": "code",
   "execution_count": null,
   "id": "291b86f1",
   "metadata": {},
   "outputs": [],
   "source": []
  },
  {
   "cell_type": "code",
   "execution_count": null,
   "id": "15d1c7cd",
   "metadata": {},
   "outputs": [],
   "source": []
  }
 ],
 "metadata": {
  "kernelspec": {
   "display_name": "Python 3 (ipykernel)",
   "language": "python",
   "name": "python3"
  },
  "language_info": {
   "codemirror_mode": {
    "name": "ipython",
    "version": 3
   },
   "file_extension": ".py",
   "mimetype": "text/x-python",
   "name": "python",
   "nbconvert_exporter": "python",
   "pygments_lexer": "ipython3",
   "version": "3.9.13"
  }
 },
 "nbformat": 4,
 "nbformat_minor": 5
}
